{
 "cells": [
  {
   "cell_type": "code",
   "execution_count": null,
   "metadata": {},
   "outputs": [],
   "source": [
    "from pathlib import Path\n",
    "\n",
    "import git\n",
    "\n",
    "repo = git.Repo(Path(\".\").absolute(), search_parent_directories=True)\n",
    "ROOT = Path(repo.working_tree_dir)"
   ]
  },
  {
   "cell_type": "code",
   "execution_count": null,
   "metadata": {},
   "outputs": [],
   "source": [
    "cd $ROOT"
   ]
  },
  {
   "cell_type": "markdown",
   "metadata": {},
   "source": [
    "# Preamble"
   ]
  },
  {
   "cell_type": "code",
   "execution_count": null,
   "metadata": {},
   "outputs": [],
   "source": [
    "import pickle\n",
    "\n",
    "import numpy as np\n",
    "import src.disc as disc\n",
    "import src.neural_model as nm\n",
    "import src.sentence_reconstruction as sr\n",
    "import torch.nn.functional as F\n",
    "from src.misc import WV, process_word_vecs\n",
    "from src.neural_model import BigramNN\n",
    "from tqdm.auto import tqdm"
   ]
  },
  {
   "cell_type": "markdown",
   "metadata": {},
   "source": [
    "Choose betwwen `nm` and `disc` to generate results for $f_T$ and $f_\\odot$, respectively."
   ]
  },
  {
   "cell_type": "code",
   "execution_count": null,
   "metadata": {},
   "outputs": [],
   "source": [
    "METHOD = \"disc\" # nm, disc"
   ]
  },
  {
   "cell_type": "code",
   "execution_count": null,
   "metadata": {},
   "outputs": [],
   "source": [
    "# Folders\n",
    "DATA = ROOT / \"data\"\n",
    "FAST_TEXT = DATA / \"raw\" / \"crawl-300d-2M.vec\"\n",
    "TRAIN = DATA / \"processed\" / \"train.1000000.pkl\"\n",
    "VALID = DATA / \"processed\" / \"valid.pkl\"\n",
    "TEST = DATA / \"processed\" / \"test.pkl\"\n",
    "RESULTS = ROOT / \"results\"\n",
    "\n",
    "START_TOKEN = \"▷\"\n",
    "END_TOKEN = \"◁\"\n",
    "\n",
    "# Choose data set and its size\n",
    "VOCAB = \"whole\"  # VOCABS = {\"whole\", \"test\"}\n",
    "MODE = \"test\"  # Modes = {\"test\", \"valid\"}\n",
    "SIZE = 10000"
   ]
  },
  {
   "cell_type": "code",
   "execution_count": null,
   "metadata": {},
   "outputs": [],
   "source": [
    "word_index, word_vecs = process_word_vecs(FAST_TEXT)\n",
    "wv = WV(word_vecs=word_vecs, word_index=word_index)\n",
    "del word_index, word_vecs\n",
    "train = pickle.load(open(TRAIN, \"rb\"))\n",
    "valid = pickle.load(open(VALID, \"rb\"))\n",
    "test = pickle.load(open(TEST, \"rb\"))"
   ]
  },
  {
   "cell_type": "markdown",
   "metadata": {},
   "source": [
    "# Sentence Representation"
   ]
  },
  {
   "cell_type": "code",
   "execution_count": null,
   "metadata": {},
   "outputs": [],
   "source": [
    "if METHOD == \"nm\":\n",
    "    get_candidate_sents = nm.get_candidate_sents\n",
    "    gen_bvs_i2b = nm.gen_bvs_i2b\n",
    "elif METHOD == \"disc\":\n",
    "    get_candidate_sents = disc.get_candidate_sents\n",
    "    gen_bvs_i2b = disc.gen_bvs_i2b    \n",
    "else:\n",
    "    raise NotImplementedError"
   ]
  },
  {
   "cell_type": "markdown",
   "metadata": {},
   "source": [
    "Remove oov from sents"
   ]
  },
  {
   "cell_type": "code",
   "execution_count": null,
   "metadata": {},
   "outputs": [],
   "source": [
    "train = [[word for word in sent if word in wv.vocab] for sent in train]\n",
    "valid = [[word for word in sent if word in wv.vocab] for sent in valid]\n",
    "test = [[word for word in sent if word in wv.vocab] for sent in test]\n",
    "vocab = set(\n",
    "    word\n",
    "    for sent in (train + valid + test if VOCAB == \"whole\" else test)\n",
    "    for word in sent\n",
    ")\n",
    "vocab.update({START_TOKEN, END_TOKEN})\n",
    "wv.adjust(vocab)\n",
    "wv.vecs = F.normalize(wv.vecs)\n",
    "index2word = {wv.dict[word]: word for word in wv.dict}\n",
    "# Prepare the sentences. Remove the markers.\n",
    "sents = [sent for sent in {\"test\": test, \"valid\": valid}[MODE][:SIZE]]\n",
    "# unigrams\n",
    "original_unigram_sents = sr.ngram_sents(sents, 1, markers=False)\n",
    "# unigram sentence representations\n",
    "unigram_sent_vecs = sr.ngram_sent_vecs(\n",
    "    original_unigram_sents, disc.disc, np.array(wv.vecs), wv.dict, 1\n",
    ")"
   ]
  },
  {
   "cell_type": "markdown",
   "metadata": {},
   "source": [
    "## Reconstruct Unigrams"
   ]
  },
  {
   "cell_type": "code",
   "execution_count": null,
   "metadata": {},
   "outputs": [],
   "source": [
    "file_name = sr.make_file_name(1, sents)\n",
    "\n",
    "if (RESULTS / file_name).exists():\n",
    "    with open(RESULTS / file_name, \"rb\") as f:\n",
    "        reconstructed_unigram_sents = pickle.load(f)\n",
    "else:\n",
    "    # The first 40,000 words close to the sentence cover in 99% of the cases all\n",
    "    # the unigrams in the sentence. (Evaluated on the validation set).\n",
    "    TOP_N = 40000\n",
    "\n",
    "    reconstructed_unigram_sents = []\n",
    "    for unigram_sent_vec in tqdm(unigram_sent_vecs):\n",
    "        indices = np.argsort(np.array(wv.vecs) @ unigram_sent_vec)[::-1][:TOP_N]\n",
    "        words = [index2word[index] for index in indices]\n",
    "        reconstructed_unigram_sents.append(\n",
    "            sr.reconstruct(\n",
    "                unigram_sent_vec,\n",
    "                np.array(wv.vecs)[indices],\n",
    "                dict(enumerate(words)),\n",
    "                solver=\"bp\",\n",
    "            )\n",
    "        )\n",
    "    # Serialize\n",
    "    file_name = sr.make_file_name(1, sents)\n",
    "    with open(RESULTS / file_name, \"wb\") as f:\n",
    "        pickle.dump(reconstructed_unigram_sents, f)\n",
    "\n",
    "# Evaluation\n",
    "sr.accuracy(original_unigram_sents, reconstructed_unigram_sents)"
   ]
  },
  {
   "cell_type": "markdown",
   "metadata": {},
   "source": [
    "## Reconstruct Bigrams"
   ]
  },
  {
   "cell_type": "code",
   "execution_count": null,
   "metadata": {},
   "outputs": [],
   "source": [
    "original_bigram_sents = sr.ngram_sents(sents, 2, markers=True)\n",
    "file_name = sr.make_file_name(2, sents)\n",
    "\n",
    "if (RESULTS / METHOD / file_name).exists():\n",
    "    with open(RESULTS / METHOD / file_name, \"rb\") as f:\n",
    "        reconstructed_bigram_sents = pickle.load(f)\n",
    "else:\n",
    "    if METHOD == \"nm\":\n",
    "        bigram_vec_repr = BigramNN(\"diff\")\n",
    "    elif METHOD == \"disc\":\n",
    "        bigram_vec_repr = lambda x: disc.disc(x.numpy())\n",
    "    else:\n",
    "        raise NotImplementedError\n",
    "    bigram_sent_vecs = sr.ngram_sent_vecs(\n",
    "        original_bigram_sents, bigram_vec_repr, wv.vecs, wv.dict, 2\n",
    "    )\n",
    "\n",
    "    bigram_sent_vecs = [vec.reshape(-1) for vec in bigram_sent_vecs]\n",
    "    # bigram_sent_vecs = [vec for vec in bigram_sent_vecs]\n",
    "\n",
    "    bvs_i2b = gen_bvs_i2b(\n",
    "        reconstructed_unigram_sents, bigram_vec_repr, wv.vecs, wv.dict, markers=True\n",
    "    )\n",
    "\n",
    "    reconstructed_bigram_sents = []\n",
    "    # i = 0\n",
    "    for bigram_sent_vec in tqdm(bigram_sent_vecs):\n",
    "        bigram_vecs, index2bigram = next(bvs_i2b)\n",
    "        #     i += 1\n",
    "        reconstructed_bigram_sents.append(\n",
    "            sr.reconstruct(bigram_sent_vec, bigram_vecs, index2bigram, solver=\"omp\")\n",
    "        )\n",
    "    # Serialize\n",
    "    file_name = sr.make_file_name(2, sents)\n",
    "    with open(RESULTS / METHOD / file_name, \"wb\") as f:\n",
    "        pickle.dump(reconstructed_bigram_sents, f)\n",
    "\n",
    "    # Store candidate sentence generated from bigrams\n",
    "    candidate_sents = [\n",
    "        get_candidate_sents(reconstructed_bigram_sent)\n",
    "        for reconstructed_bigram_sent in tqdm(reconstructed_bigram_sents)\n",
    "    ]\n",
    "\n",
    "    with open(RESULTS / METHOD / \"candidate_sents_from_bigrams.pkl\", \"wb\") as f:\n",
    "        pickle.dump(candidate_sents, f)\n",
    "\n",
    "# Evaluation\n",
    "if METHOD == \"nm\":\n",
    "    display(sr.accuracy(original_bigram_sents, reconstructed_bigram_sents,))\n",
    "elif METHOD == \"disc\":\n",
    "    # Sort the word order of each bigram in the sentences so as to compare unordered bigrams\n",
    "    display(\n",
    "        sr.accuracy(\n",
    "            sr.sorted_ngrams(original_bigram_sents),\n",
    "            sr.sorted_ngrams(reconstructed_bigram_sents),\n",
    "        )\n",
    "    )"
   ]
  },
  {
   "cell_type": "markdown",
   "metadata": {},
   "source": [
    "## Reconstruct Trigrams"
   ]
  },
  {
   "cell_type": "code",
   "execution_count": null,
   "metadata": {},
   "outputs": [],
   "source": [
    "original_trigram_sents = sr.ngram_sents(sents, 3, markers=True)\n",
    "\n",
    "file_name = sr.make_file_name(3, sents)\n",
    "if (RESULTS / METHOD / file_name).exists():\n",
    "    with open(RESULTS / METHOD / file_name, \"rb\") as f:\n",
    "        reconstructed_trigram_sents = pickle.load(f)\n",
    "else:\n",
    "    trigram_sent_vecs = sr.ngram_sent_vecs(\n",
    "        original_trigram_sents, disc.disc, np.array(wv.vecs), wv.dict, 3\n",
    "    )\n",
    "\n",
    "    def reconstruct_trigram_sents(\n",
    "        reconstructed_bigram_sents, trigram_vec_repr, word_vecs, word2index\n",
    "    ):\n",
    "        reconstructed_trigram_sents = []\n",
    "        for (bigram_sent, trigram_sent_vec) in tqdm(\n",
    "            list(zip(reconstructed_bigram_sents, trigram_sent_vecs))\n",
    "        ):\n",
    "            candidate_sents = get_candidate_sents(bigram_sent)\n",
    "            if candidate_sents:\n",
    "                trigrams = disc.get_candidate_trigrams(candidate_sents)\n",
    "                solver = \"omp\"\n",
    "            else:\n",
    "                trigrams = sr.bigram_sent2trigrams(bigram_sent)\n",
    "                solver = \"bp\"\n",
    "            trigram_vecs, index2trigram = sr.tvs_i2t(\n",
    "                trigrams, trigram_vec_repr, word_vecs, word2index\n",
    "            )\n",
    "            reconstructed_trigram_sents.append(\n",
    "                sr.reconstruct(\n",
    "                    trigram_sent_vec, trigram_vecs, index2trigram, solver=solver\n",
    "                )\n",
    "            )\n",
    "        return reconstructed_trigram_sents\n",
    "\n",
    "    reconstructed_trigram_sents = reconstruct_trigram_sents(\n",
    "        reconstructed_bigram_sents, disc.disc, np.array(wv.vecs), wv.dict\n",
    "    )\n",
    "    # Serialize\n",
    "    file_name = sr.make_file_name(3, sents)\n",
    "    with open(RESULTS / METHOD / file_name, \"wb\") as f:\n",
    "        pickle.dump(reconstructed_trigram_sents, f)\n",
    "\n",
    "    # Store the candidate sentences generated from trigrams\n",
    "    candidate_sents_list = []\n",
    "    for trigrams in tqdm(reconstructed_trigram_sents):\n",
    "        candidate_sents_list.append(disc.get_candidate_sents_trigrams(trigrams))\n",
    "\n",
    "    indices = np.where(np.array(list(map(len, candidate_sents_list))) == 0)[0].tolist()\n",
    "\n",
    "    for i in indices:\n",
    "        candidate_sents_list[i] = [()]\n",
    "\n",
    "    with open(RESULTS / METHOD / \"candidate_sents_from_trigrams.pkl\", \"wb\") as f:\n",
    "        pickle.dump(candidate_sents_list, f)\n",
    "# Evaluate\n",
    "sr.accuracy(\n",
    "    sr.sorted_ngrams(original_trigram_sents),\n",
    "    sr.sorted_ngrams(reconstructed_trigram_sents),\n",
    ")"
   ]
  },
  {
   "cell_type": "markdown",
   "metadata": {},
   "source": [
    "# Reconstruct Sentences"
   ]
  },
  {
   "cell_type": "code",
   "execution_count": null,
   "metadata": {},
   "outputs": [],
   "source": [
    "from joblib import Parallel, delayed\n",
    "from nltk.translate.bleu_score import corpus_bleu, sentence_bleu\n",
    "\n",
    "\n",
    "def reconstruct_sents(original_sents, candidate_sents_list):\n",
    "    reconstructed_sents = [\n",
    "        min(\n",
    "            candidate_sents,\n",
    "            key=lambda candidate: sentence_bleu([original_sent], candidate),\n",
    "        )\n",
    "        for (original_sent, candidate_sents) in zip(\n",
    "            original_sents, candidate_sents_list\n",
    "        )\n",
    "    ]\n",
    "    return reconstructed_sents\n",
    "\n",
    "\n",
    "\n",
    "\n",
    "original_sents = sents\n",
    "\n",
    "\n",
    "with open(RESULTS / METHOD / \"candidate_sents_from_bigrams.pkl\", \"rb\") as f:\n",
    "    candidate_sents_bigram = pickle.load(f)\n",
    "with open(RESULTS / METHOD / \"candidate_sents_from_trigrams.pkl\", \"rb\") as f:\n",
    "    candidate_sents_trigram = pickle.load(f)\n",
    "reconstructed_sents = reconstruct_sents(original_sents, candidate_sents_trigram)\n",
    "\n",
    "accuracy = np.array(\n",
    "    [\n",
    "        tuple(original_sents[i]) == reconstructed_sents[i]\n",
    "        for i in range(len(original_sents))\n",
    "    ]\n",
    ").mean()\n",
    "accuracy"
   ]
  },
  {
   "cell_type": "markdown",
   "metadata": {},
   "source": [
    "# Corpus BLEU Score"
   ]
  },
  {
   "cell_type": "code",
   "execution_count": null,
   "metadata": {},
   "outputs": [],
   "source": [
    "corpus_bleu([[sent] for sent in original_sents], reconstructed_sents)"
   ]
  }
 ],
 "metadata": {
  "language_info": {
   "name": "python",
   "pygments_lexer": "ipython3"
  }
 },
 "nbformat": 4,
 "nbformat_minor": 4
}
