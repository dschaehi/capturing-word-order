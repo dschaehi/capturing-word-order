{
 "cells": [
  {
   "cell_type": "code",
   "execution_count": 2,
   "metadata": {},
   "outputs": [],
   "source": [
    "%reload_ext autoreload\n",
    "%autoreload 2"
   ]
  },
  {
   "cell_type": "code",
   "execution_count": 3,
   "metadata": {},
   "outputs": [],
   "source": [
    "from pathlib import Path\n",
    "\n",
    "import git\n",
    "\n",
    "repo = git.Repo(Path(\".\").absolute(), search_parent_directories=True)\n",
    "ROOT = Path(repo.working_tree_dir)"
   ]
  },
  {
   "cell_type": "code",
   "execution_count": 4,
   "metadata": {},
   "outputs": [
    {
     "name": "stdout",
     "output_type": "stream",
     "text": [
      "/scratch/scmjhl1/Documents/capturing-word-order\n"
     ]
    }
   ],
   "source": [
    "cd $ROOT"
   ]
  },
  {
   "cell_type": "code",
   "execution_count": 5,
   "metadata": {},
   "outputs": [],
   "source": [
    "import logging\n",
    "import pickle\n",
    "\n",
    "import numpy as np\n",
    "import torch\n",
    "from tqdm.auto import tqdm\n",
    "\n",
    "from src.misc import WV, process_word_vecs"
   ]
  },
  {
   "cell_type": "code",
   "execution_count": 6,
   "metadata": {},
   "outputs": [],
   "source": [
    "FAST_TEXT = ROOT / \"data/raw/crawl-300d-2M.vec\""
   ]
  },
  {
   "cell_type": "code",
   "execution_count": 7,
   "metadata": {},
   "outputs": [],
   "source": [
    "word2index, word_vecs = process_word_vecs(FAST_TEXT)"
   ]
  },
  {
   "cell_type": "code",
   "execution_count": 8,
   "metadata": {},
   "outputs": [],
   "source": [
    "wv = WV(word_vecs.float(), word2index)"
   ]
  },
  {
   "cell_type": "code",
   "execution_count": 9,
   "metadata": {},
   "outputs": [
    {
     "data": {
      "text/plain": [
       "tensor([[ 0.0000,  0.0000,  0.0000,  ...,  0.0000,  0.0000,  0.0000],\n",
       "        [-0.0282, -0.0557, -0.0451,  ..., -0.0370, -0.0725, -0.0042],\n",
       "        [ 0.0231,  0.0170,  0.0157,  ...,  0.0744, -0.1118,  0.0963],\n",
       "        ...,\n",
       "        [-0.0220, -0.5017,  0.2547,  ..., -0.2723, -0.4114,  0.0499],\n",
       "        [ 0.1029, -0.0357,  0.2598,  ...,  0.0879,  0.1195, -0.3743],\n",
       "        [ 0.5513,  0.0287,  0.1653,  ..., -0.1665, -0.0714,  0.3548]])"
      ]
     },
     "execution_count": 9,
     "metadata": {},
     "output_type": "execute_result"
    }
   ],
   "source": [
    "wv.vecs"
   ]
  },
  {
   "cell_type": "code",
   "execution_count": 49,
   "metadata": {},
   "outputs": [],
   "source": [
    "diff = BigramFunction(\"diff\")\n",
    "mult = BigramFunction(\"mult\")"
   ]
  },
  {
   "cell_type": "code",
   "execution_count": 69,
   "metadata": {},
   "outputs": [],
   "source": [
    "bigram_sents_diff = diff(torch.tensor([[[1, 2], [2, 3], [3, 4], [0, 0]]]).float())\n",
    "bigram_sents_mult = mult(torch.tensor([[[1, 2], [2, 3], [3, 4], [0, 0]]]).float())"
   ]
  },
  {
   "cell_type": "code",
   "execution_count": 70,
   "metadata": {},
   "outputs": [
    {
     "data": {
      "text/plain": [
       "tensor([[[1., 1.],\n",
       "         [1., 1.],\n",
       "         [-0., -0.]]])"
      ]
     },
     "execution_count": 70,
     "metadata": {},
     "output_type": "execute_result"
    }
   ],
   "source": [
    "bigram_sents_diff"
   ]
  },
  {
   "cell_type": "code",
   "execution_count": 71,
   "metadata": {},
   "outputs": [
    {
     "data": {
      "text/plain": [
       "tensor([[[ 2.,  6.],\n",
       "         [ 6., 12.],\n",
       "         [ 0.,  0.]]])"
      ]
     },
     "execution_count": 71,
     "metadata": {},
     "output_type": "execute_result"
    }
   ],
   "source": [
    "bigram_sents_mult"
   ]
  },
  {
   "cell_type": "code",
   "execution_count": 14,
   "metadata": {},
   "outputs": [],
   "source": [
    "import humanize\n",
    "\n",
    "default_outdir = ROOT / \"data\" / \"processed\"\n",
    "\n",
    "n_sents = 1000000\n",
    "out_file_name = \"wiki_{}.pkl\".format(\n",
    "    \"_\".join(humanize.intword(n_sents, format=\"%.0f\").split())\n",
    ")"
   ]
  },
  {
   "cell_type": "code",
   "execution_count": 15,
   "metadata": {},
   "outputs": [],
   "source": [
    "with open(default_outdir / out_file_name, \"rb\") as f:\n",
    "    wiki_corpus = pickle.load(f)"
   ]
  },
  {
   "cell_type": "code",
   "execution_count": 73,
   "metadata": {},
   "outputs": [
    {
     "data": {
      "text/plain": [
       "tensor([[15498, 28605, 19111,    20, 15498, 28605, 19111,     9,     7, 14364,\n",
       "          7042,   254,  2348,     2, 11505,  3488,     2,   357,     6, 15498,\n",
       "             3],\n",
       "        [39945,   167,    26,    25,    23,   425,     4,  6897,   138,  3335,\n",
       "             8,   775,     3,     0,     0,     0,     0,     0,     0,     0,\n",
       "             0],\n",
       "        [   79,     9,     2,  1843, 14364, 12749,   932,     8,   775,    33,\n",
       "           962,  1447,     4,   330,     6,  4936,     3,     0,     0,     0,\n",
       "             0]])"
      ]
     },
     "execution_count": 73,
     "metadata": {},
     "output_type": "execute_result"
    }
   ],
   "source": [
    "wv.to_ix_sents(wiki_corpus[:3])"
   ]
  },
  {
   "cell_type": "code",
   "execution_count": 74,
   "metadata": {},
   "outputs": [],
   "source": [
    "diff = BigramFunction(\"diff\")"
   ]
  },
  {
   "cell_type": "code",
   "execution_count": 79,
   "metadata": {},
   "outputs": [
    {
     "data": {
      "text/plain": [
       "tensor([[[ 8.7628e-02,  4.9923e-02,  5.8226e-02,  ..., -4.8766e-02,\n",
       "          -9.2393e-03,  1.5590e-02],\n",
       "         [-7.1577e-02, -4.4215e-02, -1.3976e-01,  ...,  5.2037e-02,\n",
       "           2.5610e-04,  2.9295e-02],\n",
       "         [ 1.1253e-02,  3.2287e-02,  3.1387e-02,  ...,  7.7223e-02,\n",
       "           3.5750e-05,  1.1421e-02],\n",
       "         ...,\n",
       "         [-2.1651e-03, -1.4372e-02, -5.2834e-03,  ...,  5.1744e-04,\n",
       "           3.8394e-03,  5.1168e-04],\n",
       "         [-3.8380e-03, -5.8669e-03, -6.4353e-03,  ...,  6.4557e-03,\n",
       "           1.2663e-03,  9.7662e-04],\n",
       "         [ 3.4300e-02,  9.0094e-03, -6.5998e-03,  ..., -5.8688e-04,\n",
       "          -1.1115e-03, -1.4530e-03]],\n",
       "\n",
       "        [[-3.7822e-02, -2.5061e-02,  5.0765e-02,  ...,  2.0814e-02,\n",
       "           1.5200e-02, -2.7862e-02],\n",
       "         [ 1.4851e-02, -7.0797e-03, -4.5410e-03,  ...,  1.2895e-02,\n",
       "           7.5780e-03, -5.7696e-04],\n",
       "         [ 1.8619e-02, -9.9576e-03,  3.5998e-03,  ..., -2.5097e-03,\n",
       "          -2.0203e-02,  2.3280e-04],\n",
       "         ...,\n",
       "         [ 0.0000e+00,  0.0000e+00,  0.0000e+00,  ...,  0.0000e+00,\n",
       "           0.0000e+00,  0.0000e+00],\n",
       "         [ 0.0000e+00,  0.0000e+00,  0.0000e+00,  ...,  0.0000e+00,\n",
       "           0.0000e+00,  0.0000e+00],\n",
       "         [ 0.0000e+00,  0.0000e+00,  0.0000e+00,  ...,  0.0000e+00,\n",
       "           0.0000e+00,  0.0000e+00]],\n",
       "\n",
       "        [[ 1.1885e-02, -5.2198e-03, -3.7886e-03,  ...,  2.8049e-02,\n",
       "          -3.2525e-02, -1.1765e-03],\n",
       "         [-5.0936e-03,  2.4378e-03,  5.9660e-04,  ..., -1.1606e-02,\n",
       "          -2.0281e-02,  6.9336e-04],\n",
       "         [ 2.4948e-04,  1.0492e-02,  1.2309e-03,  ..., -3.3182e-02,\n",
       "          -1.0073e-02, -8.1085e-03],\n",
       "         ...,\n",
       "         [ 0.0000e+00,  0.0000e+00,  0.0000e+00,  ...,  0.0000e+00,\n",
       "           0.0000e+00,  0.0000e+00],\n",
       "         [ 0.0000e+00,  0.0000e+00,  0.0000e+00,  ...,  0.0000e+00,\n",
       "           0.0000e+00,  0.0000e+00],\n",
       "         [ 0.0000e+00,  0.0000e+00,  0.0000e+00,  ...,  0.0000e+00,\n",
       "           0.0000e+00,  0.0000e+00]]])"
      ]
     },
     "execution_count": 79,
     "metadata": {},
     "output_type": "execute_result"
    }
   ],
   "source": [
    "mult(wv.vecs[wv.to_ix_sents(wiki_corpus[:3])])"
   ]
  },
  {
   "cell_type": "code",
   "execution_count": 81,
   "metadata": {},
   "outputs": [],
   "source": [
    "import torch.nn as nn"
   ]
  },
  {
   "cell_type": "code",
   "execution_count": 82,
   "metadata": {},
   "outputs": [],
   "source": [
    "class BaselineBigram(nn.Module):\n",
    "    def __init__(self, word_vecs, bigram_combiner, dist_fn, postprocessing=None):\n",
    "        super(BaselineBigram, self).__init__()\n",
    "        self.bigram_combiner = diffvec\n",
    "        self.word_vecs = word_vecs\n",
    "        self.dist_fn = dist_fn\n",
    "        self.postprocessing = postprocessing\n",
    "\n",
    "    def forward(self, sentence_ixs_batch, aggregation=True):\n",
    "        \"\"\"\n",
    "        Transforms a sentence to either a bigram sentence vector or a sequence of bigram vectors.\n",
    "        \"\"\"\n",
    "        out = self.bigram_combiner(self.word_vecs[sentence_ixs_batch])\n",
    "        if self.postprocessing:\n",
    "            out = self.postprocessing(out)\n",
    "        if aggregation == True:\n",
    "            out = torch.mean(out, dim=1)\n",
    "        return out"
   ]
  },
  {
   "cell_type": "code",
   "execution_count": 12,
   "metadata": {},
   "outputs": [],
   "source": [
    "def analyze_bigram_encoding():\n",
    "    accuracy = 0.0\n",
    "    \n",
    "    return accuracy"
   ]
  },
  {
   "cell_type": "code",
   "execution_count": 85,
   "metadata": {},
   "outputs": [
    {
     "ename": "NameError",
     "evalue": "name 'device' is not defined",
     "output_type": "error",
     "traceback": [
      "\u001b[0;31m---------------------------------------------------------------------------\u001b[0m",
      "\u001b[0;31mNameError\u001b[0m                                 Traceback (most recent call last)",
      "\u001b[0;32m<ipython-input-85-61a6f3ffbfe4>\u001b[0m in \u001b[0;36m<module>\u001b[0;34m\u001b[0m\n\u001b[1;32m      7\u001b[0m     \u001b[0moutput_dists\u001b[0m\u001b[0;34m=\u001b[0m\u001b[0;32mFalse\u001b[0m\u001b[0;34m,\u001b[0m\u001b[0;34m\u001b[0m\u001b[0;34m\u001b[0m\u001b[0m\n\u001b[1;32m      8\u001b[0m     \u001b[0mseed\u001b[0m\u001b[0;34m=\u001b[0m\u001b[0;36m0\u001b[0m\u001b[0;34m,\u001b[0m\u001b[0;34m\u001b[0m\u001b[0;34m\u001b[0m\u001b[0m\n\u001b[0;32m----> 9\u001b[0;31m     \u001b[0mdevice\u001b[0m\u001b[0;34m=\u001b[0m\u001b[0mdevice\u001b[0m\u001b[0;34m,\u001b[0m\u001b[0;34m\u001b[0m\u001b[0;34m\u001b[0m\u001b[0m\n\u001b[0m\u001b[1;32m     10\u001b[0m ):\n\u001b[1;32m     11\u001b[0m     \u001b[0mdist\u001b[0m \u001b[0;34m=\u001b[0m \u001b[0mmodel\u001b[0m\u001b[0;34m.\u001b[0m\u001b[0mdist\u001b[0m\u001b[0;34m\u001b[0m\u001b[0;34m\u001b[0m\u001b[0m\n",
      "\u001b[0;31mNameError\u001b[0m: name 'device' is not defined"
     ]
    }
   ],
   "source": [
    "def test_bigram(\n",
    "    model,\n",
    "    X,\n",
    "    n_epochs,\n",
    "    batch_size,\n",
    "    window_size=1,\n",
    "    output_dists=False,\n",
    "    seed=0,\n",
    "    device=device,\n",
    "):\n",
    "    dist = model.dist\n",
    "    n_correct = 0\n",
    "    n_comparisons = 0\n",
    "    xs_pos = torch.tensor([], device=device)\n",
    "    xs_neg = torch.tensor([], device=device)\n",
    "    with torch.no_grad():\n",
    "        for epoch in range(n_epochs):\n",
    "            for i in range(0, X.size(0), batch_size):\n",
    "                X_batch = X[i : i + batch_size]\n",
    "                pos_bigram_ixs = gen_pos_bigram_ixs(X_batch)\n",
    "                neg_bigram_ixs = gen_neg_bigram_ixs(X_batch)\n",
    "                #                 neg_bigram_ixs = gen_rand_bigram_ixs(X_batch)\n",
    "                valid_ixs = (neg_bigram_ixs[:, 1] - neg_bigram_ixs[:, 0] < 1) | (\n",
    "                    neg_bigram_ixs[:, 1] - neg_bigram_ixs[:, 0] > window_size\n",
    "                )\n",
    "                dists_pos = torch.max(\n",
    "                    dist(\n",
    "                        model(X_batch[valid_ixs]).unsqueeze(1),\n",
    "                        model(X_batch[valid_ixs], aggregation=False),\n",
    "                    ),\n",
    "                    dim=2,\n",
    "                    keepdim=True,\n",
    "                )[0]\n",
    "                dists_neg = dist(\n",
    "                    model(X_batch[valid_ixs]).unsqueeze(1),\n",
    "                    model(neg_bigram_ixs[valid_ixs]).unsqueeze(1),\n",
    "                )\n",
    "\n",
    "                if output_dists == True:\n",
    "                    xs_pos = torch.cat(\n",
    "                        (\n",
    "                            xs_pos,\n",
    "                            dist(\n",
    "                                model(X_batch[valid_ixs]).unsqueeze(1),\n",
    "                                model(pos_bigram_ixs[valid_ixs]).unsqueeze(1),\n",
    "                            ),\n",
    "                        ),\n",
    "                        dim=0,\n",
    "                    )\n",
    "                    xs_neg = torch.cat((xs_neg, dists_neg), dim=0)\n",
    "\n",
    "                result = dists_pos < dists_neg\n",
    "                n_correct += torch.sum(result).item()\n",
    "                n_comparisons += result.size(0)\n",
    "                print(\n",
    "                    \"Accuracy: {:2.4f} {:2.1f}% done\\r\".format(\n",
    "                        np.mean(n_correct / n_comparisons),\n",
    "                        (epoch + (i + X_batch.size(0)) / X.size(0)) / n_epochs * 100,\n",
    "                    ),\n",
    "                    end=\"\",\n",
    "                )\n",
    "    if output_dists == True:\n",
    "        return np.mean(n_correct / n_comparisons), xs_pos.view(-1), xs_neg.view(-1)\n",
    "    return np.mean(n_correct / n_comparisons)"
   ]
  },
  {
   "cell_type": "code",
   "execution_count": 83,
   "metadata": {},
   "outputs": [
    {
     "ename": "NameError",
     "evalue": "name 'X' is not defined",
     "output_type": "error",
     "traceback": [
      "\u001b[0;31m---------------------------------------------------------------------------\u001b[0m",
      "\u001b[0;31mNameError\u001b[0m                                 Traceback (most recent call last)",
      "\u001b[0;32m<ipython-input-83-98da3327cb1e>\u001b[0m in \u001b[0;36m<module>\u001b[0;34m\u001b[0m\n\u001b[0;32m----> 1\u001b[0;31m \u001b[0mbigram_test_params\u001b[0m \u001b[0;34m=\u001b[0m \u001b[0;34m{\u001b[0m\u001b[0;34m\"X\"\u001b[0m\u001b[0;34m:\u001b[0m \u001b[0mX\u001b[0m\u001b[0;34m,\u001b[0m \u001b[0;34m\"n_epochs\"\u001b[0m\u001b[0;34m:\u001b[0m \u001b[0;36m1\u001b[0m\u001b[0;34m,\u001b[0m \u001b[0;34m\"batch_size\"\u001b[0m\u001b[0;34m:\u001b[0m \u001b[0;36m10000\u001b[0m\u001b[0;34m,\u001b[0m \u001b[0;34m\"output_dists\"\u001b[0m\u001b[0;34m:\u001b[0m \u001b[0;32mTrue\u001b[0m\u001b[0;34m}\u001b[0m\u001b[0;34m\u001b[0m\u001b[0;34m\u001b[0m\u001b[0m\n\u001b[0m",
      "\u001b[0;31mNameError\u001b[0m: name 'X' is not defined"
     ]
    }
   ],
   "source": [
    "bigram_test_params = {\"X\": X, \"n_epochs\": 1, \"batch_size\": 10000, \"output_dists\": True}"
   ]
  },
  {
   "cell_type": "code",
   "execution_count": 84,
   "metadata": {},
   "outputs": [
    {
     "ename": "NameError",
     "evalue": "name 'cos_dist' is not defined",
     "output_type": "error",
     "traceback": [
      "\u001b[0;31m---------------------------------------------------------------------------\u001b[0m",
      "\u001b[0;31mNameError\u001b[0m                                 Traceback (most recent call last)",
      "\u001b[0;32m<ipython-input-84-80ba9e92ff66>\u001b[0m in \u001b[0;36m<module>\u001b[0;34m\u001b[0m\n\u001b[0;32m----> 1\u001b[0;31m \u001b[0mbigram_model_params\u001b[0m \u001b[0;34m=\u001b[0m \u001b[0;34m{\u001b[0m\u001b[0;34m\"word_vecs\"\u001b[0m\u001b[0;34m:\u001b[0m \u001b[0mword_vecs\u001b[0m\u001b[0;34m,\u001b[0m \u001b[0;34m\"dist\"\u001b[0m\u001b[0;34m:\u001b[0m \u001b[0mcos_dist\u001b[0m\u001b[0;34m}\u001b[0m\u001b[0;34m\u001b[0m\u001b[0;34m\u001b[0m\u001b[0m\n\u001b[0m",
      "\u001b[0;31mNameError\u001b[0m: name 'cos_dist' is not defined"
     ]
    }
   ],
   "source": [
    "bigram_model_params = {\"word_vecs\": word_vecs, \"dist\": cos_dist}"
   ]
  },
  {
   "cell_type": "code",
   "execution_count": null,
   "metadata": {},
   "outputs": [],
   "source": [
    "BaselineBigram(**bigram_model_params)"
   ]
  },
  {
   "cell_type": "code",
   "execution_count": null,
   "metadata": {},
   "outputs": [],
   "source": [
    "result, xs_pos, xs_neg = test_bigram(\n",
    "    model=BaselineBigram(**bigram_model_params), **bigram_test_params\n",
    ")\n",
    "print(result)\n",
    "plt.hist(xs_pos, bins=1000, color=\"blue\", alpha=0.5)\n",
    "plt.hist(xs_neg, bins=1000, color=\"red\", alpha=0.5)\n",
    "plt.show()"
   ]
  }
 ],
 "metadata": {
  "kernelspec": {
   "display_name": "Python 3",
   "language": "python",
   "name": "python3"
  },
  "language_info": {
   "codemirror_mode": {
    "name": "ipython",
    "version": 3
   },
   "file_extension": ".py",
   "mimetype": "text/x-python",
   "name": "python",
   "nbconvert_exporter": "python",
   "pygments_lexer": "ipython3",
   "version": "3.7.7"
  }
 },
 "nbformat": 4,
 "nbformat_minor": 4
}
