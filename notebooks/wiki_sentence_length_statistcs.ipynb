{
 "cells": [
  {
   "cell_type": "code",
   "execution_count": null,
   "metadata": {},
   "outputs": [],
   "source": [
    "from pathlib import Path\n",
    "\n",
    "import git\n",
    "\n",
    "repo = git.Repo(Path(\".\").absolute(), search_parent_directories=True)\n",
    "ROOT = Path(repo.working_tree_dir)"
   ]
  },
  {
   "cell_type": "code",
   "execution_count": null,
   "metadata": {},
   "outputs": [],
   "source": [
    "cd $ROOT"
   ]
  },
  {
   "cell_type": "code",
   "execution_count": null,
   "metadata": {},
   "outputs": [],
   "source": [
    "import pickle\n",
    "\n",
    "import numpy as np\n",
    "\n",
    "from src.misc import load_wiki"
   ]
  },
  {
   "cell_type": "markdown",
   "metadata": {},
   "source": [
    "About 60% of the sentences consist of 3 to 25 tokens, 30% of the sentences consist of 26 to 40 tokens, and 10% of the sentences consist of 41 to 70 tokens."
   ]
  },
  {
   "cell_type": "code",
   "execution_count": null,
   "metadata": {},
   "outputs": [],
   "source": [
    "wiki_corpus = load_wiki()\n",
    "wiki_sent_lengths = np.array([len(sent) for sent in wiki_corpus])\n",
    "print(\n",
    "    (np.logical_and(wiki_sent_lengths >= 3, wiki_sent_lengths <= 25)).sum()\n",
    "    / len(wiki_sent_lengths)\n",
    ")\n",
    "print(\n",
    "    (np.logical_and(wiki_sent_lengths >= 26, wiki_sent_lengths <= 40)).sum()\n",
    "    / len(wiki_sent_lengths)\n",
    ")\n",
    "print(\n",
    "    (np.logical_and(wiki_sent_lengths >= 41, wiki_sent_lengths <= 70)).sum()\n",
    "    / len(wiki_sent_lengths)\n",
    ")"
   ]
  },
  {
   "cell_type": "markdown",
   "metadata": {},
   "source": [
    "The median and the mean of the sentence lengths are about 23 and 25 respectively"
   ]
  },
  {
   "cell_type": "code",
   "execution_count": null,
   "metadata": {},
   "outputs": [],
   "source": [
    "print(np.median(wiki_sent_lengths))\n",
    "print(np.mean(wiki_sent_lengths))"
   ]
  }
 ],
 "metadata": {
  "language_info": {
   "name": "python",
   "pygments_lexer": "ipython3"
  }
 },
 "nbformat": 4,
 "nbformat_minor": 4
}
