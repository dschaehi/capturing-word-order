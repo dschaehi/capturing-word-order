{
 "cells": [
  {
   "cell_type": "code",
   "execution_count": 13,
   "metadata": {},
   "outputs": [],
   "source": [
    "import pickle\n",
    "from pathlib import Path\n",
    "\n",
    "import humanize\n",
    "import numpy as np\n",
    "\n",
    "import git"
   ]
  },
  {
   "cell_type": "code",
   "execution_count": 11,
   "metadata": {},
   "outputs": [],
   "source": [
    "repo = git.Repo(Path(\".\").absolute(), search_parent_directories=True)\n",
    "ROOT = Path(repo.working_tree_dir)\n",
    "default_outdir = ROOT / \"data\" / \"processed\"\n",
    "\n",
    "n_sents = 1000000\n",
    "out_file_name = \"wiki_{}.pkl\".format(\n",
    "    \"_\".join(humanize.intword(n_sents, format=\"%.0f\").split())\n",
    ")"
   ]
  },
  {
   "cell_type": "markdown",
   "metadata": {},
   "source": [
    "# Load the tokenized wikipedia corpus"
   ]
  },
  {
   "cell_type": "code",
   "execution_count": 14,
   "metadata": {},
   "outputs": [],
   "source": [
    "with open(default_outdir / out_file_name, \"rb\") as f:\n",
    "    wiki_corpus = pickle.load(f)"
   ]
  },
  {
   "cell_type": "markdown",
   "metadata": {},
   "source": [
    "Print an example sentence"
   ]
  },
  {
   "cell_type": "code",
   "execution_count": 37,
   "metadata": {},
   "outputs": [
    {
     "name": "stdout",
     "output_type": "stream",
     "text": [
      "['Kolkata', 'Suburban', 'Railway', 'The', 'Kolkata', 'Suburban', 'Railway', 'is', 'a', 'suburban', 'rail', 'system', 'serving', 'the', 'suburbs', 'surrounding', 'the', 'city', 'of', 'Kolkata', '.']\n"
     ]
    }
   ],
   "source": [
    "print(wiki_corpus[0])"
   ]
  },
  {
   "cell_type": "markdown",
   "metadata": {},
   "source": [
    "# Sentence Length Statistics"
   ]
  },
  {
   "cell_type": "markdown",
   "metadata": {},
   "source": [
    "About 60% of the sentences consist of 3 to 25 tokens, 30% of the sentences consist of 26 to 40 tokens, and 10% of the sentences consist of 41 to 70 tokens."
   ]
  },
  {
   "cell_type": "code",
   "execution_count": 45,
   "metadata": {},
   "outputs": [
    {
     "name": "stdout",
     "output_type": "stream",
     "text": [
      "0.590842\n",
      "0.294003\n",
      "0.101577\n"
     ]
    }
   ],
   "source": [
    "wiki_sent_lengths = np.array([len(sent) for sent in wiki_corpus])\n",
    "print(\n",
    "    (np.logical_and(wiki_sent_lengths >= 3, wiki_sent_lengths <= 25)).sum()\n",
    "    / len(wiki_sent_lengths)\n",
    ")\n",
    "print(\n",
    "    (np.logical_and(wiki_sent_lengths >= 26, wiki_sent_lengths <= 40)).sum()\n",
    "    / len(wiki_sent_lengths)\n",
    ")\n",
    "print(\n",
    "    (np.logical_and(wiki_sent_lengths >= 41, wiki_sent_lengths <= 70)).sum()\n",
    "    / len(wiki_sent_lengths)\n",
    ")"
   ]
  },
  {
   "cell_type": "markdown",
   "metadata": {},
   "source": [
    "The median and the mean of the sentence lengths are about 23 and 25 respectively"
   ]
  },
  {
   "cell_type": "code",
   "execution_count": 33,
   "metadata": {},
   "outputs": [
    {
     "name": "stdout",
     "output_type": "stream",
     "text": [
      "23.0\n",
      "25.211804\n"
     ]
    }
   ],
   "source": [
    "print(np.median(wiki_sent_lengths))\n",
    "print(np.mean(wiki_sent_lengths))"
   ]
  }
 ],
 "metadata": {
  "kernelspec": {
   "display_name": "Python 3",
   "language": "python",
   "name": "python3"
  },
  "language_info": {
   "codemirror_mode": {
    "name": "ipython",
    "version": 3
   },
   "file_extension": ".py",
   "mimetype": "text/x-python",
   "name": "python",
   "nbconvert_exporter": "python",
   "pygments_lexer": "ipython3",
   "version": "3.7.7"
  }
 },
 "nbformat": 4,
 "nbformat_minor": 4
}
